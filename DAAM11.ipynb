{
  "nbformat": 4,
  "nbformat_minor": 0,
  "metadata": {
    "colab": {
      "provenance": [],
      "collapsed_sections": []
    },
    "kernelspec": {
      "name": "python3",
      "display_name": "Python 3"
    },
    "language_info": {
      "name": "python"
    }
  },
  "cells": [
    {
      "cell_type": "code",
      "execution_count": 1,
      "metadata": {
        "id": "YJFAIxJl3YD8",
        "colab": {
          "base_uri": "https://localhost:8080/"
        },
        "outputId": "794aeb8b-71d9-4369-97e3-dab5e0ef45eb"
      },
      "outputs": [
        {
          "output_type": "stream",
          "name": "stdout",
          "text": [
            "{'a': ['b', 'c'], 'b': ['a', 'd'], 'c': ['a', 'd'], 'd': ['e'], 'e': ['d']}\n"
          ]
        }
      ],
      "source": [
        "#Algoritma Graph\n",
        "graph = { \"a\" : [\"b\" , \"c\"],\n",
        "          \"b\" : [\"a\", \"d\"],\n",
        "          \"c\" : [\"a\", \"d\"],\n",
        "          \"d\" : [\"e\"],\n",
        "          \"e\" : [\"d\"]\n",
        "         }\n",
        "print (graph)"
      ]
    },
    {
      "cell_type": "code",
      "source": [
        "#Latihan 1\n",
        "graph1 = { \"t\" : [\"u\" , \"w\"],\n",
        "          \"u\" : [\"t\", \"v\"],\n",
        "          \"v\" : [\"u\", \"x\"],\n",
        "          \"w\" : [\"x\"],\n",
        "          \"x\" : [\"s\"],\n",
        "          \"z\" : [\"w\"],\n",
        "          \"s\" : [\"x\"]\n",
        "         }\n",
        "print (graph1)"
      ],
      "metadata": {
        "colab": {
          "base_uri": "https://localhost:8080/"
        },
        "id": "Dq-MfCcu8Mtz",
        "outputId": "cdd0d99f-c015-4b35-d9ac-fcf7e48b0a6e"
      },
      "execution_count": 2,
      "outputs": [
        {
          "output_type": "stream",
          "name": "stdout",
          "text": [
            "{'t': ['u', 'w'], 'u': ['t', 'v'], 'v': ['u', 'x'], 'w': ['x'], 'x': ['s'], 'z': ['w'], 's': ['x']}\n"
          ]
        }
      ]
    },
    {
      "cell_type": "code",
      "source": [
        "#Latihan 2\n",
        "graph2 = { \"r\" : [\"o\" , \"l\"],\n",
        "          \"l\" : [\"p\", \"r\"],\n",
        "          \"p\" : [\"n\", \"o\",\"l\"],\n",
        "          \"o\" : [\"r\",\"m\",\"p\"],\n",
        "          \"n\" : [\"m\",\"p\"]\n",
        "         }\n",
        "print (graph2)"
      ],
      "metadata": {
        "colab": {
          "base_uri": "https://localhost:8080/"
        },
        "id": "9waXEf0X8_hz",
        "outputId": "bdd1081a-ca92-43af-80c7-50cd9480a325"
      },
      "execution_count": 3,
      "outputs": [
        {
          "output_type": "stream",
          "name": "stdout",
          "text": [
            "{'r': ['o', 'l'], 'l': ['p', 'r'], 'p': ['n', 'o', 'l'], 'o': ['r', 'm', 'p'], 'n': ['m', 'p']}\n"
          ]
        }
      ]
    },
    {
      "cell_type": "code",
      "source": [
        "#menampilakn simpul pada graph\n",
        "class graph:\n",
        "    def __init__(self,gdict=None):\n",
        "        if gdict is None:\n",
        "            gdict = []\n",
        "        self.gdict = gdict\n",
        "\n",
        "    def getVertices(self):\n",
        "        return list(self.gdict.keys())\n",
        "\n",
        "graph_elements = {\"a\" : [\"b\", \"c\"],\n",
        "                  \"b\" : [\"a\",\"d\"],\n",
        "                  \"c\" : [\"a\", \"d\"],\n",
        "                  \"d\" : [\"e\"],\n",
        "                  \"e\" : [\"d\"]\n",
        "                  }\n",
        "g = graph (graph_elements)\n",
        "print (g.getVertices())"
      ],
      "metadata": {
        "colab": {
          "base_uri": "https://localhost:8080/"
        },
        "id": "-TwlOxZo-0iN",
        "outputId": "1d1fc170-a555-4f21-d464-1a18f69186ac"
      },
      "execution_count": 11,
      "outputs": [
        {
          "output_type": "stream",
          "name": "stdout",
          "text": [
            "['a', 'b', 'c', 'd', 'e']\n"
          ]
        }
      ]
    },
    {
      "cell_type": "code",
      "source": [
        "#Latihan 3 ( element Simpul graph TUV)\n",
        "graph_elements = {\"T\" : [\"U\", \"V\"],\n",
        "                  \"U\" : [\"T\",\"V\"],\n",
        "                  \"V\" : [\"U\", \"T\"]\n",
        "                  }\n",
        "g = graph (graph_elements)\n",
        "print (g.getVertices())                  "
      ],
      "metadata": {
        "colab": {
          "base_uri": "https://localhost:8080/"
        },
        "id": "pLdd6HXiAxXb",
        "outputId": "2fe46b45-23a3-497f-9f54-c10949fc1611"
      },
      "execution_count": 12,
      "outputs": [
        {
          "output_type": "stream",
          "name": "stdout",
          "text": [
            "['T', 'U', 'V']\n"
          ]
        }
      ]
    },
    {
      "cell_type": "code",
      "source": [
        "#Latihan 5( element simpul graph ROM)\n",
        "graph_elements = {\"R\" : [\"M\", \"O\"],\n",
        "                  \"O\" : [\"M\",\"R\"],\n",
        "                  \"M\" : [\"R\", \"O\"]\n",
        "                  }\n",
        "g = graph (graph_elements)\n",
        "print (g.getVertices()) "
      ],
      "metadata": {
        "colab": {
          "base_uri": "https://localhost:8080/"
        },
        "id": "eWL0Wx73DDl0",
        "outputId": "f9c76099-8ff2-4337-925a-457afe55aef4"
      },
      "execution_count": 13,
      "outputs": [
        {
          "output_type": "stream",
          "name": "stdout",
          "text": [
            "['R', 'O', 'M']\n"
          ]
        }
      ]
    },
    {
      "cell_type": "code",
      "source": [
        "#Menampilakan Sudut pada graph \n",
        "class graph:\n",
        "  def __init__(self,gdict=None):\n",
        "    if gdict is None:\n",
        "        gdict = {}\n",
        "    self.gdict = gdict\n",
        "  \n",
        "  def edges(self):\n",
        "      return self.findedges()\n",
        "\n",
        "  def findedges (self):\n",
        "    edgename = []\n",
        "    for vrtx in self.gdict:\n",
        "        for nxtvrtx in self.gdict[vrtx]:\n",
        "          if {nxtvrtx,vrtx} not in edgename:\n",
        "              edgename.append({vrtx,nxtvrtx})\n",
        "    return edgename\n",
        "\n",
        "graph_elements = {\"a\" : [\"b\", \"c\"],\n",
        "                  \"b\" : [\"a\",\"d\"],\n",
        "                  \"c\" : [\"a\", \"d\"],\n",
        "                  \"d\" : [\"e\"],\n",
        "                  \"e\" : [\"d\"]\n",
        "                  }\n",
        "g = graph (graph_elements)\n",
        "print(g.edges())"
      ],
      "metadata": {
        "colab": {
          "base_uri": "https://localhost:8080/"
        },
        "id": "LWQo_DxiE46V",
        "outputId": "517b55ac-44eb-4587-cd5f-0c6e099ceab4"
      },
      "execution_count": 14,
      "outputs": [
        {
          "output_type": "stream",
          "name": "stdout",
          "text": [
            "[{'a', 'b'}, {'c', 'a'}, {'d', 'b'}, {'c', 'd'}, {'d', 'e'}]\n"
          ]
        }
      ]
    },
    {
      "cell_type": "code",
      "source": [
        "#Latihan 6 (Sudut Graph TUV)\n",
        "graph_elements = {\"T\" : [\"U\", \"V\"],\n",
        "                  \"U\" : [\"T\",\"V\"],\n",
        "                  \"V\" : [\"T\", \"U\"]\n",
        "                  }\n",
        "g = graph (graph_elements)\n",
        "print(g.edges())"
      ],
      "metadata": {
        "colab": {
          "base_uri": "https://localhost:8080/"
        },
        "id": "EkFXzU5xGoL-",
        "outputId": "a29eac69-cb0b-4743-ada3-bb6b64ca4ead"
      },
      "execution_count": 15,
      "outputs": [
        {
          "output_type": "stream",
          "name": "stdout",
          "text": [
            "[{'U', 'T'}, {'V', 'T'}, {'V', 'U'}]\n"
          ]
        }
      ]
    },
    {
      "cell_type": "code",
      "source": [
        "#Latihan 7 (Sudut Graph ROM)\n",
        "graph_elements = {\"R\" : [\"O\", \"M\"],\n",
        "                  \"O\" : [\"R\",\"M\"],\n",
        "                  \"M\" : [\"O\", \"R\"]\n",
        "                  }\n",
        "g = graph (graph_elements)\n",
        "print(g.edges())"
      ],
      "metadata": {
        "colab": {
          "base_uri": "https://localhost:8080/"
        },
        "id": "-2dDnFSZHT46",
        "outputId": "9ed1f256-7bbc-453e-ed6d-5c279dd24980"
      },
      "execution_count": 16,
      "outputs": [
        {
          "output_type": "stream",
          "name": "stdout",
          "text": [
            "[{'O', 'R'}, {'R', 'M'}, {'O', 'M'}]\n"
          ]
        }
      ]
    },
    {
      "cell_type": "code",
      "source": [
        "#Menambah Vertex/Simpul \n",
        "class graph:\n",
        "  def __init__(self,gdict=None):\n",
        "      if gdict is None:\n",
        "        gdict = {}\n",
        "      self.gdict = gdict\n",
        "  def getVertices(self):\n",
        "      return list (self.gdict.keys())\n",
        "  \n",
        "  def addVertex (self,vrtx):\n",
        "      if vrtx not in self.gdict:\n",
        "           self.gdict[vrtx] =[]\n",
        "  \n",
        "graph_elements = {\"a\" : [\"b\", \"c\"],\n",
        "                  \"b\" : [\"a\",\"d\"],\n",
        "                  \"c\" : [\"a\", \"d\"],\n",
        "                  \"d\" : [\"e\"],\n",
        "                  \"e\" : [\"d\"]\n",
        "                  }\n",
        "g = graph (graph_elements)\n",
        "g.addVertex(\"f\")\n",
        "print(g.getVertices())"
      ],
      "metadata": {
        "colab": {
          "base_uri": "https://localhost:8080/"
        },
        "id": "ayYeyAG6Hy71",
        "outputId": "bfce7392-8782-4ed5-c606-cc5fca7558cd"
      },
      "execution_count": 17,
      "outputs": [
        {
          "output_type": "stream",
          "name": "stdout",
          "text": [
            "['a', 'b', 'c', 'd', 'e', 'f']\n"
          ]
        }
      ]
    },
    {
      "cell_type": "code",
      "source": [
        "#Latihan 8 ( Graph Simpul TUV)\n",
        "graph_elements = {\"T\" : [\"V\", \"U\"],\n",
        "                  \"U\" : [\"V\",\"T\"],\n",
        "                  \"V\" : [\"U\", \"V\"]\n",
        "                  }\n",
        "g = graph (graph_elements)\n",
        "g.addVertex(\"X\")\n",
        "print(g.getVertices())"
      ],
      "metadata": {
        "colab": {
          "base_uri": "https://localhost:8080/"
        },
        "id": "e_W15YhbJmWW",
        "outputId": "882166fb-f7f9-477f-a1cf-f451bdc52d35"
      },
      "execution_count": 19,
      "outputs": [
        {
          "output_type": "stream",
          "name": "stdout",
          "text": [
            "['T', 'U', 'V', 'X']\n"
          ]
        }
      ]
    },
    {
      "cell_type": "code",
      "source": [
        "#Latihan 9 ( Graph ROM)\n",
        "graph_elements = {\"R\" : [\"O\", \"M\"],\n",
        "                  \"O\" : [\"R\",\"M\"],\n",
        "                  \"M\" : [\"O\", \"M\"]\n",
        "                  }\n",
        "g = graph (graph_elements)\n",
        "g.addVertex(\"Z\")\n",
        "print(g.getVertices())"
      ],
      "metadata": {
        "colab": {
          "base_uri": "https://localhost:8080/"
        },
        "id": "CeaEFcH5J-Kc",
        "outputId": "e46b3041-15f8-4ded-c86a-15a117840d6c"
      },
      "execution_count": 20,
      "outputs": [
        {
          "output_type": "stream",
          "name": "stdout",
          "text": [
            "['R', 'O', 'M', 'Z']\n"
          ]
        }
      ]
    },
    {
      "cell_type": "code",
      "source": [
        "#Menambah Sudut/Edge\n",
        "class graph:\n",
        "\n",
        "  def __init__(self,gdict = None):\n",
        "      if gdict is None:\n",
        "          gdict = {}\n",
        "      self.gdict = gdict\n",
        "  \n",
        "  def edges(self):\n",
        "      return self.findedges()\n",
        "  \n",
        "  def AddEdge (self,edge):\n",
        "      edge = set(edge)\n",
        "      (vrtx1, vrtx2) = tuple(edge)\n",
        "      if vrtx1 in self.gdict:\n",
        "        self.gdict[vrtx1].append(vrtx2)\n",
        "      else:\n",
        "        self.gdict[vrtx1] = [vrtx1]\n",
        "  \n",
        "  def findedges(self):\n",
        "      edgename = []\n",
        "      for vrtx in self.gdict:\n",
        "        for nxtvrtx in self.gdict[vrtx]:\n",
        "            if {nxtvrtx,vrtx} not in edgename:\n",
        "              edgename.append({vrtx,nxtvrtx})\n",
        "      return edgename\n",
        "\n",
        "graph_elements = {\"a\" : [\"b\", \"c\"],\n",
        "                  \"b\" : [\"a\",\"d\"],\n",
        "                  \"c\" : [\"a\",\"d\"],\n",
        "                  \"d\" : [\"e\"],\n",
        "                  \"e\" : [\"d\"]\n",
        "                  }\n",
        "g = graph(graph_elements)\n",
        "g.AddEdge({'a','e'})\n",
        "g.AddEdge({'a', 'c'})\n",
        "print(g.edges())"
      ],
      "metadata": {
        "colab": {
          "base_uri": "https://localhost:8080/"
        },
        "id": "lSUhnlfhKQFB",
        "outputId": "c0220a41-9b36-42d7-fa0d-2e1268822fb2"
      },
      "execution_count": 22,
      "outputs": [
        {
          "output_type": "stream",
          "name": "stdout",
          "text": [
            "[{'a', 'b'}, {'c', 'a'}, {'a', 'e'}, {'d', 'b'}, {'c', 'd'}, {'d', 'e'}]\n"
          ]
        }
      ]
    },
    {
      "cell_type": "code",
      "source": [
        "#Latihan 10 ( Menambah Edge Graph TUV)\n",
        "graph_elements = {\"T\" : [\"U\", \"V\"],\n",
        "                  \"U\" : [\"T\",\"V\"],\n",
        "                  \"V\" : [\"T\",\"U\"]\n",
        "                  }\n",
        "g = graph(graph_elements)\n",
        "g.AddEdge({'T','V'})\n",
        "g.AddEdge({'T', 'U'})\n",
        "print(g.edges())"
      ],
      "metadata": {
        "colab": {
          "base_uri": "https://localhost:8080/"
        },
        "id": "vH-B47PMMduT",
        "outputId": "76764878-f881-445e-fb9a-db0ef76c692d"
      },
      "execution_count": 23,
      "outputs": [
        {
          "output_type": "stream",
          "name": "stdout",
          "text": [
            "[{'U', 'T'}, {'V', 'T'}, {'V', 'U'}]\n"
          ]
        }
      ]
    },
    {
      "cell_type": "code",
      "source": [
        "#Latihan 11 ( Menambah Edge Graph ROM)\n",
        "graph_elements = {\"R\" : [\"O\", \"M\"],\n",
        "                  \"O\" : [\"R\",\"M\"],\n",
        "                  \"M\" : [\"R\", \"O\"]\n",
        "                  }\n",
        "g = graph(graph_elements)\n",
        "g.AddEdge({'R','O'})\n",
        "g.AddEdge({'R', 'V'})\n",
        "print(g.edges())"
      ],
      "metadata": {
        "colab": {
          "base_uri": "https://localhost:8080/"
        },
        "id": "L598TIo1Nt7X",
        "outputId": "c8c23236-8f74-493d-f061-d6f1289cdb8f"
      },
      "execution_count": 25,
      "outputs": [
        {
          "output_type": "stream",
          "name": "stdout",
          "text": [
            "[{'O', 'R'}, {'R', 'M'}, {'O', 'M'}, {'V'}]\n"
          ]
        }
      ]
    }
  ]
}